{
 "cells": [
  {
   "cell_type": "markdown",
   "metadata": {},
   "source": [
    "# Project: Investigate TMDb Movie Dataset\n",
    "\n",
    "## Table of Contents\n",
    "<ul>\n",
    "<li><a href=\"#intro\">Introduction</a></li>\n",
    "<li><a href=\"#wrangling\">Data Wrangling</a></li>\n",
    "<li><a href=\"#eda\">Exploratory Data Analysis</a></li>\n",
    "<li><a href=\"#conclusions\">Conclusions</a></li>\n",
    "</ul>"
   ]
  },
  {
   "cell_type": "markdown",
   "metadata": {},
   "source": [
    "<a id='intro'></a>\n",
    "## Introduction\n",
    "\n",
    "I have selected TMDb Movie Dataset for this project.\n",
    "\n",
    "\n",
    "This dataset has around 10K rows with information movies from the movies database (TMDb). The dataset has 21 columns with information like title, budget, cast, director, runtime, vote, genre, revenue etc. Few columns have multiple items separated by a pipe ‘|’ for example cast and genres. Also, I am not sure if it has duplicate rows. I will deal with these in the data cleaning section. \n",
    "\n",
    "\n",
    "#### The following questions I would like to explore:\n",
    "1. Which movie has the Highest and Lowest revenue?\n",
    "2. What is the trend of average budget and average revenue over the years?\n",
    "3. Is there any relationship between budget and revenue?\n",
    "4. What % of high budgeted movies generated high revenue?\n",
    "5. What is the runtime trend over years?\n",
    "6. How many movies released each year? Is there any trend?"
   ]
  },
  {
   "cell_type": "code",
   "execution_count": 467,
   "metadata": {},
   "outputs": [],
   "source": [
    "# Importing the packages I will use\n",
    "import pandas as pd\n",
    "import numpy as np\n",
    "import matplotlib.pyplot as plt\n",
    "from scipy import stats\n",
    "\n",
    "%matplotlib inline"
   ]
  },
  {
   "cell_type": "markdown",
   "metadata": {},
   "source": [
    "<a id='wrangling'></a>\n",
    "## Data Wrangling\n",
    "\n",
    "### General Properties"
   ]
  },
  {
   "cell_type": "code",
   "execution_count": 468,
   "metadata": {},
   "outputs": [
    {
     "data": {
      "text/html": [
       "<div>\n",
       "<style scoped>\n",
       "    .dataframe tbody tr th:only-of-type {\n",
       "        vertical-align: middle;\n",
       "    }\n",
       "\n",
       "    .dataframe tbody tr th {\n",
       "        vertical-align: top;\n",
       "    }\n",
       "\n",
       "    .dataframe thead th {\n",
       "        text-align: right;\n",
       "    }\n",
       "</style>\n",
       "<table border=\"1\" class=\"dataframe\">\n",
       "  <thead>\n",
       "    <tr style=\"text-align: right;\">\n",
       "      <th></th>\n",
       "      <th>id</th>\n",
       "      <th>imdb_id</th>\n",
       "      <th>popularity</th>\n",
       "      <th>budget</th>\n",
       "      <th>revenue</th>\n",
       "      <th>original_title</th>\n",
       "      <th>cast</th>\n",
       "      <th>homepage</th>\n",
       "      <th>director</th>\n",
       "      <th>tagline</th>\n",
       "      <th>...</th>\n",
       "      <th>overview</th>\n",
       "      <th>runtime</th>\n",
       "      <th>genres</th>\n",
       "      <th>production_companies</th>\n",
       "      <th>release_date</th>\n",
       "      <th>vote_count</th>\n",
       "      <th>vote_average</th>\n",
       "      <th>release_year</th>\n",
       "      <th>budget_adj</th>\n",
       "      <th>revenue_adj</th>\n",
       "    </tr>\n",
       "  </thead>\n",
       "  <tbody>\n",
       "    <tr>\n",
       "      <th>0</th>\n",
       "      <td>135397</td>\n",
       "      <td>tt0369610</td>\n",
       "      <td>32.985763</td>\n",
       "      <td>150000000</td>\n",
       "      <td>1513528810</td>\n",
       "      <td>Jurassic World</td>\n",
       "      <td>Chris Pratt|Bryce Dallas Howard|Irrfan Khan|Vi...</td>\n",
       "      <td>http://www.jurassicworld.com/</td>\n",
       "      <td>Colin Trevorrow</td>\n",
       "      <td>The park is open.</td>\n",
       "      <td>...</td>\n",
       "      <td>Twenty-two years after the events of Jurassic ...</td>\n",
       "      <td>124</td>\n",
       "      <td>Action|Adventure|Science Fiction|Thriller</td>\n",
       "      <td>Universal Studios|Amblin Entertainment|Legenda...</td>\n",
       "      <td>6/9/15</td>\n",
       "      <td>5562</td>\n",
       "      <td>6.5</td>\n",
       "      <td>2015</td>\n",
       "      <td>1.379999e+08</td>\n",
       "      <td>1.392446e+09</td>\n",
       "    </tr>\n",
       "    <tr>\n",
       "      <th>1</th>\n",
       "      <td>76341</td>\n",
       "      <td>tt1392190</td>\n",
       "      <td>28.419936</td>\n",
       "      <td>150000000</td>\n",
       "      <td>378436354</td>\n",
       "      <td>Mad Max: Fury Road</td>\n",
       "      <td>Tom Hardy|Charlize Theron|Hugh Keays-Byrne|Nic...</td>\n",
       "      <td>http://www.madmaxmovie.com/</td>\n",
       "      <td>George Miller</td>\n",
       "      <td>What a Lovely Day.</td>\n",
       "      <td>...</td>\n",
       "      <td>An apocalyptic story set in the furthest reach...</td>\n",
       "      <td>120</td>\n",
       "      <td>Action|Adventure|Science Fiction|Thriller</td>\n",
       "      <td>Village Roadshow Pictures|Kennedy Miller Produ...</td>\n",
       "      <td>5/13/15</td>\n",
       "      <td>6185</td>\n",
       "      <td>7.1</td>\n",
       "      <td>2015</td>\n",
       "      <td>1.379999e+08</td>\n",
       "      <td>3.481613e+08</td>\n",
       "    </tr>\n",
       "  </tbody>\n",
       "</table>\n",
       "<p>2 rows × 21 columns</p>\n",
       "</div>"
      ],
      "text/plain": [
       "       id    imdb_id  popularity     budget     revenue      original_title  \\\n",
       "0  135397  tt0369610   32.985763  150000000  1513528810      Jurassic World   \n",
       "1   76341  tt1392190   28.419936  150000000   378436354  Mad Max: Fury Road   \n",
       "\n",
       "                                                cast  \\\n",
       "0  Chris Pratt|Bryce Dallas Howard|Irrfan Khan|Vi...   \n",
       "1  Tom Hardy|Charlize Theron|Hugh Keays-Byrne|Nic...   \n",
       "\n",
       "                        homepage         director             tagline  \\\n",
       "0  http://www.jurassicworld.com/  Colin Trevorrow   The park is open.   \n",
       "1    http://www.madmaxmovie.com/    George Miller  What a Lovely Day.   \n",
       "\n",
       "       ...                                                overview runtime  \\\n",
       "0      ...       Twenty-two years after the events of Jurassic ...     124   \n",
       "1      ...       An apocalyptic story set in the furthest reach...     120   \n",
       "\n",
       "                                      genres  \\\n",
       "0  Action|Adventure|Science Fiction|Thriller   \n",
       "1  Action|Adventure|Science Fiction|Thriller   \n",
       "\n",
       "                                production_companies release_date vote_count  \\\n",
       "0  Universal Studios|Amblin Entertainment|Legenda...       6/9/15       5562   \n",
       "1  Village Roadshow Pictures|Kennedy Miller Produ...      5/13/15       6185   \n",
       "\n",
       "   vote_average  release_year    budget_adj   revenue_adj  \n",
       "0           6.5          2015  1.379999e+08  1.392446e+09  \n",
       "1           7.1          2015  1.379999e+08  3.481613e+08  \n",
       "\n",
       "[2 rows x 21 columns]"
      ]
     },
     "execution_count": 468,
     "metadata": {},
     "output_type": "execute_result"
    }
   ],
   "source": [
    "# load data\n",
    "df = pd.read_csv('tmdb-movies.csv')\n",
    "df.head(2)"
   ]
  },
  {
   "cell_type": "markdown",
   "metadata": {},
   "source": [
    "### Observation\n",
    "The currency unit is missing. So we will assume that the currency is USD. Adjusted budget and revenue is in scintific number format. Genre column has multiple items sepearted by pipe."
   ]
  },
  {
   "cell_type": "code",
   "execution_count": 469,
   "metadata": {},
   "outputs": [
    {
     "data": {
      "text/plain": [
       "id                        int64\n",
       "imdb_id                  object\n",
       "popularity              float64\n",
       "budget                    int64\n",
       "revenue                   int64\n",
       "original_title           object\n",
       "cast                     object\n",
       "homepage                 object\n",
       "director                 object\n",
       "tagline                  object\n",
       "keywords                 object\n",
       "overview                 object\n",
       "runtime                   int64\n",
       "genres                   object\n",
       "production_companies     object\n",
       "release_date             object\n",
       "vote_count                int64\n",
       "vote_average            float64\n",
       "release_year              int64\n",
       "budget_adj              float64\n",
       "revenue_adj             float64\n",
       "dtype: object"
      ]
     },
     "execution_count": 469,
     "metadata": {},
     "output_type": "execute_result"
    }
   ],
   "source": [
    "# want to see the data type for each column\n",
    "df.dtypes"
   ]
  },
  {
   "cell_type": "markdown",
   "metadata": {},
   "source": [
    "### Observation\n",
    "Looks like the release date column needs to be formatted properly"
   ]
  },
  {
   "cell_type": "code",
   "execution_count": 470,
   "metadata": {},
   "outputs": [
    {
     "name": "stdout",
     "output_type": "stream",
     "text": [
      "<class 'pandas.core.frame.DataFrame'>\n",
      "RangeIndex: 10866 entries, 0 to 10865\n",
      "Data columns (total 21 columns):\n",
      "id                      10866 non-null int64\n",
      "imdb_id                 10856 non-null object\n",
      "popularity              10866 non-null float64\n",
      "budget                  10866 non-null int64\n",
      "revenue                 10866 non-null int64\n",
      "original_title          10866 non-null object\n",
      "cast                    10790 non-null object\n",
      "homepage                2936 non-null object\n",
      "director                10822 non-null object\n",
      "tagline                 8042 non-null object\n",
      "keywords                9373 non-null object\n",
      "overview                10862 non-null object\n",
      "runtime                 10866 non-null int64\n",
      "genres                  10843 non-null object\n",
      "production_companies    9836 non-null object\n",
      "release_date            10866 non-null object\n",
      "vote_count              10866 non-null int64\n",
      "vote_average            10866 non-null float64\n",
      "release_year            10866 non-null int64\n",
      "budget_adj              10866 non-null float64\n",
      "revenue_adj             10866 non-null float64\n",
      "dtypes: float64(4), int64(6), object(11)\n",
      "memory usage: 1.7+ MB\n"
     ]
    }
   ],
   "source": [
    "# Want to see the null values for each column\n",
    "df.info()"
   ]
  },
  {
   "cell_type": "markdown",
   "metadata": {},
   "source": [
    "### Observation\n",
    "There are null values in the dataset."
   ]
  },
  {
   "cell_type": "code",
   "execution_count": 471,
   "metadata": {},
   "outputs": [
    {
     "data": {
      "image/png": "[encoded data removed]",
      "text/plain": [
       "<Figure size 1152x864 with 12 Axes>"
      ]
     },
     "metadata": {},
     "output_type": "display_data"
    }
   ],
   "source": [
    "# Want to see if there is any frequency pattern in the dataset\n",
    "df.hist(figsize=(16,12));"
   ]
  },
  {
   "cell_type": "markdown",
   "metadata": {},
   "source": [
    "### Observation\n",
    "From the release year column it is visible that we have more rows for recent years"
   ]
  },
  {
   "cell_type": "markdown",
   "metadata": {},
   "source": [
    "### Data Cleaning\n",
    "\n",
    "Steps:\n",
    "\n",
    "1. For smimplicity, I will drop columns which are not required for my analysis. But these columns might have information for broader analysis. We will keep imdb_id as it looks like as the primary key.\n",
    "2. I will remove duplicates\n",
    "3. Convert the date into proper format\n",
    "4. Convert scintific numbers to regular numbers\n",
    "6. Then deal with zero values\n",
    "7. Check the dataset after clean-up"
   ]
  },
  {
   "cell_type": "markdown",
   "metadata": {},
   "source": [
    "### Drop columns which are not required"
   ]
  },
  {
   "cell_type": "code",
   "execution_count": 472,
   "metadata": {},
   "outputs": [],
   "source": [
    "# first I will drop the columns, which I don't need to answer my questions\n",
    "drop_cols = ['id','director','genres','production_companies','popularity','cast', 'budget','revenue','homepage', 'tagline', 'keywords', 'overview','vote_count']\n",
    "\n",
    "df.drop(drop_cols,1,inplace=True)"
   ]
  },
  {
   "cell_type": "markdown",
   "metadata": {},
   "source": [
    "### Remove Duplicate Rows"
   ]
  },
  {
   "cell_type": "code",
   "execution_count": 473,
   "metadata": {},
   "outputs": [],
   "source": [
    "df.drop_duplicates(inplace=True)"
   ]
  },
  {
   "cell_type": "markdown",
   "metadata": {},
   "source": [
    "### Converting date into proper format"
   ]
  },
  {
   "cell_type": "code",
   "execution_count": 474,
   "metadata": {},
   "outputs": [],
   "source": [
    "# converting the date into proper format\n",
    "df['release_date']=pd.to_datetime(df['release_date'],format='%m/%d/%y')"
   ]
  },
  {
   "cell_type": "markdown",
   "metadata": {},
   "source": [
    "### Converting scintific numbers to integer"
   ]
  },
  {
   "cell_type": "code",
   "execution_count": 475,
   "metadata": {},
   "outputs": [],
   "source": [
    "# converting scintific nmbers to integer\n",
    "# I am ignoring the decimals as the number is big\n",
    "df['budget_adj'] = pd.to_numeric(df['budget_adj'].apply(lambda x: '%.0f' % x))\n",
    "df['revenue_adj'] = pd.to_numeric(df['revenue_adj'].apply(lambda x: '%.0f' % x))"
   ]
  },
  {
   "cell_type": "markdown",
   "metadata": {},
   "source": [
    "### Dealing with zero values"
   ]
  },
  {
   "cell_type": "code",
   "execution_count": 476,
   "metadata": {},
   "outputs": [],
   "source": [
    "# Making the list of the 2 columns\n",
    "zero_cols = ['budget_adj', 'revenue_adj']\n",
    "\n",
    "# Replacing all the 0 values with NaN\n",
    "df[zero_cols] = df[zero_cols].replace(0, np.NAN)"
   ]
  },
  {
   "cell_type": "code",
   "execution_count": 477,
   "metadata": {},
   "outputs": [
    {
     "name": "stdout",
     "output_type": "stream",
     "text": [
      "Total number of rows:  10865\n"
     ]
    },
    {
     "data": {
      "text/plain": [
       "imdb_id             10\n",
       "original_title       0\n",
       "runtime              0\n",
       "release_date         0\n",
       "vote_average         0\n",
       "release_year         0\n",
       "budget_adj        5696\n",
       "revenue_adj       6016\n",
       "dtype: int64"
      ]
     },
     "execution_count": 477,
     "metadata": {},
     "output_type": "execute_result"
    }
   ],
   "source": [
    "# let's see the null value counts\n",
    "print('Total number of rows: ',df.shape[0])\n",
    "df.isnull().sum()"
   ]
  },
  {
   "cell_type": "markdown",
   "metadata": {},
   "source": [
    "We can see >50% rows have nan values.\n",
    "\n",
    "It is dangerous to remove > 50% data from the dataset. We can fill them with average but for simplicity I will take the brave step and remove the rows."
   ]
  },
  {
   "cell_type": "code",
   "execution_count": 478,
   "metadata": {},
   "outputs": [
    {
     "name": "stdout",
     "output_type": "stream",
     "text": [
      "Total number of rows:  3854\n"
     ]
    },
    {
     "data": {
      "text/plain": [
       "imdb_id           0\n",
       "original_title    0\n",
       "runtime           0\n",
       "release_date      0\n",
       "vote_average      0\n",
       "release_year      0\n",
       "budget_adj        0\n",
       "revenue_adj       0\n",
       "dtype: int64"
      ]
     },
     "execution_count": 478,
     "metadata": {},
     "output_type": "execute_result"
    }
   ],
   "source": [
    "# Delete rows with null\n",
    "df.dropna(subset = zero_cols, inplace = True)\n",
    "\n",
    "# Check the dataset\n",
    "print('Total number of rows: ',df.shape[0])\n",
    "df.isnull().sum()"
   ]
  },
  {
   "cell_type": "markdown",
   "metadata": {},
   "source": [
    "### Check the dataset after clean-up"
   ]
  },
  {
   "cell_type": "code",
   "execution_count": 479,
   "metadata": {
    "scrolled": false
   },
   "outputs": [
    {
     "data": {
      "text/html": [
       "<div>\n",
       "<style scoped>\n",
       "    .dataframe tbody tr th:only-of-type {\n",
       "        vertical-align: middle;\n",
       "    }\n",
       "\n",
       "    .dataframe tbody tr th {\n",
       "        vertical-align: top;\n",
       "    }\n",
       "\n",
       "    .dataframe thead th {\n",
       "        text-align: right;\n",
       "    }\n",
       "</style>\n",
       "<table border=\"1\" class=\"dataframe\">\n",
       "  <thead>\n",
       "    <tr style=\"text-align: right;\">\n",
       "      <th></th>\n",
       "      <th>imdb_id</th>\n",
       "      <th>original_title</th>\n",
       "      <th>runtime</th>\n",
       "      <th>release_date</th>\n",
       "      <th>vote_average</th>\n",
       "      <th>release_year</th>\n",
       "      <th>budget_adj</th>\n",
       "      <th>revenue_adj</th>\n",
       "    </tr>\n",
       "  </thead>\n",
       "  <tbody>\n",
       "    <tr>\n",
       "      <th>0</th>\n",
       "      <td>tt0369610</td>\n",
       "      <td>Jurassic World</td>\n",
       "      <td>124</td>\n",
       "      <td>2015-06-09</td>\n",
       "      <td>6.5</td>\n",
       "      <td>2015</td>\n",
       "      <td>137999939.0</td>\n",
       "      <td>1.392446e+09</td>\n",
       "    </tr>\n",
       "    <tr>\n",
       "      <th>1</th>\n",
       "      <td>tt1392190</td>\n",
       "      <td>Mad Max: Fury Road</td>\n",
       "      <td>120</td>\n",
       "      <td>2015-05-13</td>\n",
       "      <td>7.1</td>\n",
       "      <td>2015</td>\n",
       "      <td>137999939.0</td>\n",
       "      <td>3.481613e+08</td>\n",
       "    </tr>\n",
       "  </tbody>\n",
       "</table>\n",
       "</div>"
      ],
      "text/plain": [
       "     imdb_id      original_title  runtime release_date  vote_average  \\\n",
       "0  tt0369610      Jurassic World      124   2015-06-09           6.5   \n",
       "1  tt1392190  Mad Max: Fury Road      120   2015-05-13           7.1   \n",
       "\n",
       "   release_year   budget_adj   revenue_adj  \n",
       "0          2015  137999939.0  1.392446e+09  \n",
       "1          2015  137999939.0  3.481613e+08  "
      ]
     },
     "execution_count": 479,
     "metadata": {},
     "output_type": "execute_result"
    }
   ],
   "source": [
    "#check the dataset after cleanup\n",
    "df.head(2)"
   ]
  },
  {
   "cell_type": "markdown",
   "metadata": {},
   "source": [
    "Everything looks good Now let's move on to the next section to answer our questions."
   ]
  },
  {
   "cell_type": "markdown",
   "metadata": {},
   "source": [
    "<a id='eda'></a>\n",
    "## Exploratory Data Analysis\n",
    "\n",
    "Now we will try to find out the answers to the following questions:\n",
    "\n",
    "1. Which movie has the Highest and Lowest revenue?\n",
    "2. What is the trend of average budget and average revenue over the years?\n",
    "3. Is there any relationship between budget and revenue?\n",
    "4. What % of high budgeted movies generated high revenue?\n",
    "5. What is the runtime trend over years?\n",
    "6. How many movies released each year? Is there any trend?\n",
    "\n"
   ]
  },
  {
   "cell_type": "markdown",
   "metadata": {},
   "source": [
    "### Question 1: Which Movie Has The Highest Or Lowest Profit?"
   ]
  },
  {
   "cell_type": "code",
   "execution_count": 480,
   "metadata": {},
   "outputs": [
    {
     "name": "stdout",
     "output_type": "stream",
     "text": [
      "Movie which generated the highest revenue(2827123750.0) is Avatar\n",
      "Movie which generated the lowest revenue(2.0) is Shattered Glass\n"
     ]
    }
   ],
   "source": [
    "max_index = df['revenue_adj'].idxmax()\n",
    "print('Movie which generated the highest revenue({}) is {}'\n",
    "      .format(df['revenue_adj'][max_index],df['original_title'][max_index]))\n",
    "\n",
    "min_index = df['revenue_adj'].idxmin()\n",
    "print('Movie which generated the lowest revenue({}) is {}'\n",
    "      .format(df['revenue_adj'][min_index],df['original_title'][min_index]))"
   ]
  },
  {
   "cell_type": "markdown",
   "metadata": {},
   "source": [
    "Observation: There are still outliers in the dataset. Revenue for Shattered Glass looks wrong. For simplicity we will ignore this."
   ]
  },
  {
   "cell_type": "markdown",
   "metadata": {},
   "source": [
    "### Question 2: What is the trend of average budget and average revenue over the years?"
   ]
  },
  {
   "cell_type": "code",
   "execution_count": 481,
   "metadata": {},
   "outputs": [
    {
     "data": {
      "image/png": "[encoded data removed]",
      "text/plain": [
       "<Figure size 432x288 with 1 Axes>"
      ]
     },
     "metadata": {},
     "output_type": "display_data"
    }
   ],
   "source": [
    "# make the dataset for the avg budget and revenue\n",
    "year_avg = df.groupby(['release_year'],as_index=False)['budget_adj','revenue_adj'].mean()\n",
    "\n",
    "# Plot the data in the chart\n",
    "plt.plot(year_avg['release_year'],year_avg['budget_adj'],label = 'avg_budget');\n",
    "plt.plot(year_avg['release_year'],year_avg['revenue_adj'],label = 'avg_revenue');\n",
    "plt.title('YoY trend of Avg budget vs Avg Revnue')\n",
    "plt.xlabel('Year')\n",
    "plt.ylabel('Dollar')\n",
    "plt.legend(loc=\"upper right\")\n",
    "plt.show()"
   ]
  },
  {
   "cell_type": "markdown",
   "metadata": {},
   "source": [
    "### Question 3: Is there any relationship between budget and revenue?"
   ]
  },
  {
   "cell_type": "code",
   "execution_count": 496,
   "metadata": {},
   "outputs": [
    {
     "data": {
      "image/png": "[encoded data removed]",
      "text/plain": [
       "<Figure size 432x288 with 1 Axes>"
      ]
     },
     "metadata": {},
     "output_type": "display_data"
    },
    {
     "name": "stdout",
     "output_type": "stream",
     "text": [
      "r value:  0.5704510196260754\n"
     ]
    }
   ],
   "source": [
    "# defining x and y\n",
    "x = df['budget_adj']\n",
    "y = df['revenue_adj']\n",
    "\n",
    "# calculating the measures\n",
    "slope, intercept, r, p, std_err = stats.linregress(x, y)\n",
    "\n",
    "# function to get the slope\n",
    "def myfunc(x):\n",
    "  return slope * x + intercept\n",
    "\n",
    "# running the function \n",
    "mymodel = list(map(myfunc, x))\n",
    "\n",
    "#plotting the data\n",
    "plt.scatter(x, y)\n",
    "plt.plot(x, mymodel, color='red')\n",
    "plt.show()\n",
    "print('r value: ', r)"
   ]
  },
  {
   "cell_type": "markdown",
   "metadata": {},
   "source": [
    "Answer: From the scatter plot and r value I can say Budget and Revenue are positively related but the relationship is not very strong."
   ]
  },
  {
   "cell_type": "markdown",
   "metadata": {},
   "source": [
    "### Question 4: What % of high budgeted movies generated high revenue?\n",
    "\n",
    "This is a tricky question. First of all, we need to define what is high budget and high revenue. The following slabs are being used to determine the level for budget and revenue.\n",
    "\n",
    "1. Low> 25%\n",
    "2. Medium: >25%  but <50%\n",
    "3. Moderately High: >50%  but <75%\n",
    "4. High: >75%"
   ]
  },
  {
   "cell_type": "code",
   "execution_count": 562,
   "metadata": {},
   "outputs": [
    {
     "data": {
      "text/html": [
       "<div>\n",
       "<style scoped>\n",
       "    .dataframe tbody tr th:only-of-type {\n",
       "        vertical-align: middle;\n",
       "    }\n",
       "\n",
       "    .dataframe tbody tr th {\n",
       "        vertical-align: top;\n",
       "    }\n",
       "\n",
       "    .dataframe thead th {\n",
       "        text-align: right;\n",
       "    }\n",
       "</style>\n",
       "<table border=\"1\" class=\"dataframe\">\n",
       "  <thead>\n",
       "    <tr style=\"text-align: right;\">\n",
       "      <th></th>\n",
       "      <th>runtime</th>\n",
       "      <th>vote_average</th>\n",
       "      <th>release_year</th>\n",
       "      <th>budget_adj</th>\n",
       "      <th>revenue_adj</th>\n",
       "    </tr>\n",
       "  </thead>\n",
       "  <tbody>\n",
       "    <tr>\n",
       "      <th>min</th>\n",
       "      <td>15.0</td>\n",
       "      <td>2.2</td>\n",
       "      <td>1960.0</td>\n",
       "      <td>1.0</td>\n",
       "      <td>2.000000e+00</td>\n",
       "    </tr>\n",
       "    <tr>\n",
       "      <th>25%</th>\n",
       "      <td>95.0</td>\n",
       "      <td>5.7</td>\n",
       "      <td>1995.0</td>\n",
       "      <td>13090528.0</td>\n",
       "      <td>1.835735e+07</td>\n",
       "    </tr>\n",
       "    <tr>\n",
       "      <th>50%</th>\n",
       "      <td>106.0</td>\n",
       "      <td>6.2</td>\n",
       "      <td>2004.0</td>\n",
       "      <td>30016111.5</td>\n",
       "      <td>6.173068e+07</td>\n",
       "    </tr>\n",
       "    <tr>\n",
       "      <th>75%</th>\n",
       "      <td>119.0</td>\n",
       "      <td>6.7</td>\n",
       "      <td>2010.0</td>\n",
       "      <td>60613070.0</td>\n",
       "      <td>1.632577e+08</td>\n",
       "    </tr>\n",
       "    <tr>\n",
       "      <th>max</th>\n",
       "      <td>338.0</td>\n",
       "      <td>8.4</td>\n",
       "      <td>2015.0</td>\n",
       "      <td>425000000.0</td>\n",
       "      <td>2.827124e+09</td>\n",
       "    </tr>\n",
       "  </tbody>\n",
       "</table>\n",
       "</div>"
      ],
      "text/plain": [
       "     runtime  vote_average  release_year   budget_adj   revenue_adj\n",
       "min     15.0           2.2        1960.0          1.0  2.000000e+00\n",
       "25%     95.0           5.7        1995.0   13090528.0  1.835735e+07\n",
       "50%    106.0           6.2        2004.0   30016111.5  6.173068e+07\n",
       "75%    119.0           6.7        2010.0   60613070.0  1.632577e+08\n",
       "max    338.0           8.4        2015.0  425000000.0  2.827124e+09"
      ]
     },
     "execution_count": 562,
     "metadata": {},
     "output_type": "execute_result"
    }
   ],
   "source": [
    "# Let's check the min, 25%, 50%, 75% and max values for budget and revenue\n",
    "df.describe()[3:]"
   ]
  },
  {
   "cell_type": "code",
   "execution_count": 568,
   "metadata": {},
   "outputs": [],
   "source": [
    "# Level edges (min, 25%, 50%, 75%, max) that will be used to \"cut\" the data into groups\n",
    "budget_edges = df.describe()[3:]['budget_adj'].values\n",
    "revenue_edges = df.describe()[3:]['revenue_adj'].values"
   ]
  },
  {
   "cell_type": "code",
   "execution_count": 569,
   "metadata": {},
   "outputs": [],
   "source": [
    "# Labels for the four acidity level groups\n",
    "level_names = ['Low','Medium','Moderately high','High' ]"
   ]
  },
  {
   "cell_type": "code",
   "execution_count": 570,
   "metadata": {},
   "outputs": [
    {
     "data": {
      "text/html": [
       "<div>\n",
       "<style scoped>\n",
       "    .dataframe tbody tr th:only-of-type {\n",
       "        vertical-align: middle;\n",
       "    }\n",
       "\n",
       "    .dataframe tbody tr th {\n",
       "        vertical-align: top;\n",
       "    }\n",
       "\n",
       "    .dataframe thead th {\n",
       "        text-align: right;\n",
       "    }\n",
       "</style>\n",
       "<table border=\"1\" class=\"dataframe\">\n",
       "  <thead>\n",
       "    <tr style=\"text-align: right;\">\n",
       "      <th></th>\n",
       "      <th>imdb_id</th>\n",
       "      <th>original_title</th>\n",
       "      <th>runtime</th>\n",
       "      <th>release_date</th>\n",
       "      <th>vote_average</th>\n",
       "      <th>release_year</th>\n",
       "      <th>budget_adj</th>\n",
       "      <th>revenue_adj</th>\n",
       "      <th>budget_level</th>\n",
       "      <th>revenue_level</th>\n",
       "    </tr>\n",
       "  </thead>\n",
       "  <tbody>\n",
       "    <tr>\n",
       "      <th>0</th>\n",
       "      <td>tt0369610</td>\n",
       "      <td>Jurassic World</td>\n",
       "      <td>124</td>\n",
       "      <td>2015-06-09</td>\n",
       "      <td>6.5</td>\n",
       "      <td>2015</td>\n",
       "      <td>137999939.0</td>\n",
       "      <td>1.392446e+09</td>\n",
       "      <td>High</td>\n",
       "      <td>High</td>\n",
       "    </tr>\n",
       "    <tr>\n",
       "      <th>1</th>\n",
       "      <td>tt1392190</td>\n",
       "      <td>Mad Max: Fury Road</td>\n",
       "      <td>120</td>\n",
       "      <td>2015-05-13</td>\n",
       "      <td>7.1</td>\n",
       "      <td>2015</td>\n",
       "      <td>137999939.0</td>\n",
       "      <td>3.481613e+08</td>\n",
       "      <td>High</td>\n",
       "      <td>High</td>\n",
       "    </tr>\n",
       "    <tr>\n",
       "      <th>2</th>\n",
       "      <td>tt2908446</td>\n",
       "      <td>Insurgent</td>\n",
       "      <td>119</td>\n",
       "      <td>2015-03-18</td>\n",
       "      <td>6.3</td>\n",
       "      <td>2015</td>\n",
       "      <td>101199955.0</td>\n",
       "      <td>2.716190e+08</td>\n",
       "      <td>High</td>\n",
       "      <td>High</td>\n",
       "    </tr>\n",
       "    <tr>\n",
       "      <th>3</th>\n",
       "      <td>tt2488496</td>\n",
       "      <td>Star Wars: The Force Awakens</td>\n",
       "      <td>136</td>\n",
       "      <td>2015-12-15</td>\n",
       "      <td>7.5</td>\n",
       "      <td>2015</td>\n",
       "      <td>183999919.0</td>\n",
       "      <td>1.902723e+09</td>\n",
       "      <td>High</td>\n",
       "      <td>High</td>\n",
       "    </tr>\n",
       "    <tr>\n",
       "      <th>4</th>\n",
       "      <td>tt2820852</td>\n",
       "      <td>Furious 7</td>\n",
       "      <td>137</td>\n",
       "      <td>2015-04-01</td>\n",
       "      <td>7.3</td>\n",
       "      <td>2015</td>\n",
       "      <td>174799923.0</td>\n",
       "      <td>1.385749e+09</td>\n",
       "      <td>High</td>\n",
       "      <td>High</td>\n",
       "    </tr>\n",
       "  </tbody>\n",
       "</table>\n",
       "</div>"
      ],
      "text/plain": [
       "     imdb_id                original_title  runtime release_date  \\\n",
       "0  tt0369610                Jurassic World      124   2015-06-09   \n",
       "1  tt1392190            Mad Max: Fury Road      120   2015-05-13   \n",
       "2  tt2908446                     Insurgent      119   2015-03-18   \n",
       "3  tt2488496  Star Wars: The Force Awakens      136   2015-12-15   \n",
       "4  tt2820852                     Furious 7      137   2015-04-01   \n",
       "\n",
       "   vote_average  release_year   budget_adj   revenue_adj budget_level  \\\n",
       "0           6.5          2015  137999939.0  1.392446e+09         High   \n",
       "1           7.1          2015  137999939.0  3.481613e+08         High   \n",
       "2           6.3          2015  101199955.0  2.716190e+08         High   \n",
       "3           7.5          2015  183999919.0  1.902723e+09         High   \n",
       "4           7.3          2015  174799923.0  1.385749e+09         High   \n",
       "\n",
       "  revenue_level  \n",
       "0          High  \n",
       "1          High  \n",
       "2          High  \n",
       "3          High  \n",
       "4          High  "
      ]
     },
     "execution_count": 570,
     "metadata": {},
     "output_type": "execute_result"
    }
   ],
   "source": [
    "#Creates acidity_levels column\n",
    "df['budget_level'] = pd.cut(df['budget_adj'], budget_edges, labels=level_names)\n",
    "df['revenue_level'] = pd.cut(df['revenue_adj'], revenue_edges, labels=level_names)\n",
    "\n",
    "# Checks for successful creation of this column\n",
    "df.head()"
   ]
  },
  {
   "cell_type": "code",
   "execution_count": 571,
   "metadata": {},
   "outputs": [
    {
     "data": {
      "text/html": [
       "<div>\n",
       "<style scoped>\n",
       "    .dataframe tbody tr th:only-of-type {\n",
       "        vertical-align: middle;\n",
       "    }\n",
       "\n",
       "    .dataframe tbody tr th {\n",
       "        vertical-align: top;\n",
       "    }\n",
       "\n",
       "    .dataframe thead th {\n",
       "        text-align: right;\n",
       "    }\n",
       "</style>\n",
       "<table border=\"1\" class=\"dataframe\">\n",
       "  <thead>\n",
       "    <tr style=\"text-align: right;\">\n",
       "      <th>revenue_level</th>\n",
       "      <th>Low</th>\n",
       "      <th>Medium</th>\n",
       "      <th>Moderately high</th>\n",
       "      <th>High</th>\n",
       "    </tr>\n",
       "    <tr>\n",
       "      <th>budget_level</th>\n",
       "      <th></th>\n",
       "      <th></th>\n",
       "      <th></th>\n",
       "      <th></th>\n",
       "    </tr>\n",
       "  </thead>\n",
       "  <tbody>\n",
       "    <tr>\n",
       "      <th>Low</th>\n",
       "      <td>59.625390</td>\n",
       "      <td>25.337487</td>\n",
       "      <td>10.072690</td>\n",
       "      <td>5.082988</td>\n",
       "    </tr>\n",
       "    <tr>\n",
       "      <th>Medium</th>\n",
       "      <td>25.806452</td>\n",
       "      <td>36.033229</td>\n",
       "      <td>28.141225</td>\n",
       "      <td>9.854772</td>\n",
       "    </tr>\n",
       "    <tr>\n",
       "      <th>Moderately high</th>\n",
       "      <td>11.134235</td>\n",
       "      <td>28.452752</td>\n",
       "      <td>38.317757</td>\n",
       "      <td>22.199170</td>\n",
       "    </tr>\n",
       "    <tr>\n",
       "      <th>High</th>\n",
       "      <td>3.433923</td>\n",
       "      <td>10.176532</td>\n",
       "      <td>23.468328</td>\n",
       "      <td>62.863071</td>\n",
       "    </tr>\n",
       "  </tbody>\n",
       "</table>\n",
       "</div>"
      ],
      "text/plain": [
       "revenue_level          Low     Medium  Moderately high       High\n",
       "budget_level                                                     \n",
       "Low              59.625390  25.337487        10.072690   5.082988\n",
       "Medium           25.806452  36.033229        28.141225   9.854772\n",
       "Moderately high  11.134235  28.452752        38.317757  22.199170\n",
       "High              3.433923  10.176532        23.468328  62.863071"
      ]
     },
     "execution_count": 571,
     "metadata": {},
     "output_type": "execute_result"
    }
   ],
   "source": [
    "df.groupby([\"budget_level\",\"revenue_level\"]).size().unstack(level=1).agg(lambda x: x*100/x.sum())"
   ]
  },
  {
   "cell_type": "code",
   "execution_count": 572,
   "metadata": {},
   "outputs": [
    {
     "data": {
      "image/png": "[encoded data removed]",
      "text/plain": [
       "<Figure size 1058.4x595.44 with 1 Axes>"
      ]
     },
     "metadata": {},
     "output_type": "display_data"
    }
   ],
   "source": [
    "df.groupby([\"budget_level\",\"revenue_level\"]).size().unstack(level=1).agg(\n",
    "    lambda x: x*100/x.sum()).plot.barh(figsize = [14.7, 8.27],width = 0.9, cmap = 'RdYlBu_r');\n",
    "\n",
    "plt.xlabel('Percentage')\n",
    "plt.ylabel('Budget Catagories');"
   ]
  },
  {
   "cell_type": "markdown",
   "metadata": {},
   "source": [
    "### Question 5: What is the runtime trend over years?"
   ]
  },
  {
   "cell_type": "code",
   "execution_count": 547,
   "metadata": {},
   "outputs": [
    {
     "data": {
      "image/png": "[encoded data removed]",
      "text/plain": [
       "<Figure size 432x288 with 1 Axes>"
      ]
     },
     "metadata": {},
     "output_type": "display_data"
    }
   ],
   "source": [
    "# create the dataset with avg runtime by year and over year\n",
    "runtime_avg_by_year = df.groupby(['release_year'],as_index=False)['release_year','runtime'].mean()\n",
    "runtime_avg_by_year['runtime_avg'] = df['runtime'].mean()\n",
    "\n",
    "# plotting them on the chart\n",
    "plt.plot(runtime_avg_by_year['release_year'],runtime_avg_by_year['runtime'],label=\"Avg runtime per year\")\n",
    "plt.plot(runtime_avg_by_year['release_year'],runtime_avg_by_year['runtime_avg'],label=\"Avg runtime over years\")\n",
    "plt.ylabel('Runtime')\n",
    "plt.xlabel('Year')\n",
    "plt.title('Trend of runtime over years')\n",
    "plt.legend(loc=\"upper right\")\n",
    "plt.show();"
   ]
  },
  {
   "cell_type": "markdown",
   "metadata": {},
   "source": [
    "The trend simply says that the runtime has gone down over the years and currently it is at the average over all the years."
   ]
  },
  {
   "cell_type": "markdown",
   "metadata": {},
   "source": [
    "### Question 6: How many movies released each year? Is there any trend?"
   ]
  },
  {
   "cell_type": "code",
   "execution_count": 495,
   "metadata": {},
   "outputs": [
    {
     "data": {
      "image/png": "[encoded data removed]",
      "text/plain": [
       "<Figure size 432x288 with 1 Axes>"
      ]
     },
     "metadata": {},
     "output_type": "display_data"
    }
   ],
   "source": [
    "# create the dataset with count of releases per year and over year\n",
    "df_release_count = df.groupby(['release_year'],as_index=False)['original_title'].count()\n",
    "df_release_count['avg over years'] = df_release_count['original_title'].mean()\n",
    "\n",
    "\n",
    "# plotting them on the chart\n",
    "plt.plot(df_release_count ['release_year'],\n",
    "         df_release_count ['original_title'],label=\"Avg number of movie released per year\")\n",
    "\n",
    "plt.plot(df_release_count ['release_year'],\n",
    "         df_release_count ['avg over years'],label=\"Avg over years\")\n",
    "\n",
    "plt.ylabel('Runtime')\n",
    "plt.xlabel('Year')\n",
    "plt.title('Trend of number of movies released over years')\n",
    "plt.legend(loc=\"upper left\")\n",
    "plt.show();"
   ]
  },
  {
   "cell_type": "markdown",
   "metadata": {},
   "source": [
    "The trend shows that the number of movies released has consistently increased over the years."
   ]
  },
  {
   "cell_type": "markdown",
   "metadata": {},
   "source": [
    "\n",
    "<a id='conclusions'></a>\n",
    "## Conclusions\n",
    "\n",
    "Overall, I the analysis gives us the following observations:\n",
    "1.\tAverage revenue per movie has significantly decreased post 1975. This could be due to high number of movie releases. People have more options. I assume.\n",
    "2.\tOn the other hand average budget was more or less consistent.\n",
    "3.\tThough there is a positive relationship between budget and revenue, but it is not strong. Additionally, 63% of the high budgeted movies earned high revenue.\n",
    "4.\tOver the years runtime has gone down. Specifically, after around 1978. But the budget did not reduce much so I assume movie makers were focusing more on quality then time.\n",
    "5.\tIt clearly shows that number of movies has gone up over the years but there is a dip after 2009.\n",
    "\n",
    "### Limitations\n",
    "\n",
    "1. There were many missing information. So during the data cleaning process I have removed more than 50% of rows. The observations are limited and restricted to selected data. The insights might change if we get large dataset.\n",
    "2. Though my observation says that high budget leads to high revenue to some extent but there is no gaurantee.\n",
    "\n",
    "\n",
    "\n",
    "## Submitting your Project \n",
    "\n",
    "> Before you submit your project, you need to create a .html or .pdf version of this notebook in the workspace here. To do that, run the code cell below. If it worked correctly, you should get a return code of 0, and you should see the generated .html file in the workspace directory (click on the orange Jupyter icon in the upper left).\n",
    "\n",
    "> Alternatively, you can download this report as .html via the **File** > **Download as** submenu, and then manually upload it into the workspace directory by clicking on the orange Jupyter icon in the upper left, then using the Upload button.\n",
    "\n",
    "> Once you've done this, you can submit your project by clicking on the \"Submit Project\" button in the lower right here. This will create and submit a zip file with this .ipynb doc and the .html or .pdf version you created. Congratulations!"
   ]
  },
  {
   "cell_type": "code",
   "execution_count": 493,
   "metadata": {},
   "outputs": [
    {
     "data": {
      "text/plain": [
       "0"
      ]
     },
     "execution_count": 493,
     "metadata": {},
     "output_type": "execute_result"
    }
   ],
   "source": [
    "from subprocess import call\n",
    "call(['python', '-m', 'nbconvert', 'Investigate_a_Dataset_Final.ipynb'])"
   ]
  }
 ],
 "metadata": {
  "kernelspec": {
   "display_name": "Python 3",
   "language": "python",
   "name": "python3"
  },
  "language_info": {
   "codemirror_mode": {
    "name": "ipython",
    "version": 3
   },
   "file_extension": ".py",
   "mimetype": "text/x-python",
   "name": "python",
   "nbconvert_exporter": "python",
   "pygments_lexer": "ipython3",
   "version": "3.6.5"
  }
 },
 "nbformat": 4,
 "nbformat_minor": 2
}
